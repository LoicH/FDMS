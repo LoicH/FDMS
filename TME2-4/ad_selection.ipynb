{
 "cells": [
  {
   "cell_type": "markdown",
   "metadata": {},
   "source": [
    "# TME 2-4  : Séléction de publicité\n",
    "\n",
    "## Parsage des données"
   ]
  },
  {
   "cell_type": "code",
   "execution_count": 58,
   "metadata": {
    "collapsed": false
   },
   "outputs": [
    {
     "name": "stdout",
     "output_type": "stream",
     "text": [
      "Contexts:\n",
      "[[ 0.748  0.835  0.077  0.172  0.143]\n",
      " [ 0.168  0.134  0.435  0.996  0.049]\n",
      " [ 0.485  0.567  0.042  0.963  0.185]\n",
      " [ 0.622  0.196  0.131  0.44   0.299]\n",
      " [ 0.332  0.086  0.023  0.926  0.334]]\n",
      "Probas:\n",
      "[[ 0.103  0.191  0.     0.102  0.036  0.075  0.235  0.     0.     0.079]\n",
      " [ 0.     0.     0.     0.021  0.     0.     0.023  0.     0.147  0.325]\n",
      " [ 0.11   0.137  0.     0.098  0.075  0.     0.     0.     0.015  0.194]\n",
      " [ 0.     0.151  0.     0.127  0.112  0.     0.012  0.034  0.     0.086]\n",
      " [ 0.     0.109  0.     0.152  0.05   0.     0.     0.037  0.119  0.217]]\n"
     ]
    }
   ],
   "source": [
    "import numpy as np\n",
    "import pandas as pd\n",
    "import matplotlib.pyplot as plt\n",
    "import IPython.display as disp\n",
    "%matplotlib inline\n",
    "\n",
    "filepath = \"CTR.txt\"\n",
    "with open(filepath, 'r') as f:\n",
    "    data = f.read()\n",
    "    \n",
    "article_ids = []\n",
    "contexts = []\n",
    "probas = []\n",
    "\n",
    "for line in data.split('\\n'):\n",
    "    if ':' in line:\n",
    "        [art_id, ctx, proba] = line.split(':')\n",
    "        article_ids.append(int(art_id))\n",
    "        contexts.append([float(s) for s in ctx.split(';')])\n",
    "        probas.append([float(s) for s in proba.split(';')])\n",
    "\n",
    "contexts = np.array(contexts)\n",
    "probas   = np.array(probas)\n",
    "\n",
    "n_articles = len(article_ids)\n",
    "n_advertisers = probas.shape[1]\n",
    "\n",
    "np.set_printoptions(precision=3)\n",
    "print(\"Contexts:\")\n",
    "print(contexts[:5])\n",
    "\n",
    "print(\"Probas:\")\n",
    "print(probas[:5])"
   ]
  },
  {
   "cell_type": "markdown",
   "metadata": {},
   "source": [
    "## Baseline : Random"
   ]
  },
  {
   "cell_type": "code",
   "execution_count": 73,
   "metadata": {
    "collapsed": false
   },
   "outputs": [
    {
     "data": {
      "image/png": "[encoded data removed]",
      "text/plain": [
       "<matplotlib.figure.Figure at 0x7fd9d8751940>"
      ]
     },
     "metadata": {},
     "output_type": "display_data"
    },
    {
     "name": "stdout",
     "output_type": "stream",
     "text": [
      "767 clicks.\n"
     ]
    }
   ],
   "source": [
    "do_plot = True\n",
    "def plot_clicks(n_visits, x_values, y_values):\n",
    "    disp.clear_output(wait=True)\n",
    "    plt.plot(x_values, y_values)\n",
    "    plt.xlim(0, n_visits*1.1)\n",
    "    plt.ylim(0, n_visits/3)\n",
    "    plt.show()\n",
    "\n",
    "\n",
    "n_visits = int(1e4)\n",
    "n_clicks = 0\n",
    "x_values = []\n",
    "y_values = []\n",
    "for it in range(n_visits):\n",
    "    article = np.random.choice(article_ids)\n",
    "    advertiser = np.random.choice(probas[article])\n",
    "    if np.random.rand() < advertiser:\n",
    "        n_clicks += 1\n",
    "    if it%1000 == 0:\n",
    "        x_values.append(it)\n",
    "        y_values.append(n_clicks)\n",
    "        plot_clicks(n_visits, x_values, y_values)\n",
    "print(\"%d clicks.\" % n_clicks)"
   ]
  },
  {
   "cell_type": "markdown",
   "metadata": {},
   "source": [
    "## Baseline : Static best"
   ]
  },
  {
   "cell_type": "code",
   "execution_count": 75,
   "metadata": {
    "collapsed": false,
    "scrolled": false
   },
   "outputs": [
    {
     "data": {
      "image/png": "[encoded data removed]",
      "text/plain": [
       "<matplotlib.figure.Figure at 0x7fd9d8a42f60>"
      ]
     },
     "metadata": {},
     "output_type": "display_data"
    },
    {
     "name": "stdout",
     "output_type": "stream",
     "text": [
      "2727 clicks.\n"
     ]
    }
   ],
   "source": [
    "n_visits = int(1e4)\n",
    "\n",
    "agg_clickrate = np.mean(probas, axis=0)\n",
    "best_rate = max(agg_clickrate)\n",
    "\n",
    "n_clicks = 0\n",
    "x_values = []\n",
    "y_values = []\n",
    "\n",
    "for it in range(n_visits):\n",
    "    article = np.random.choice(article_ids)\n",
    "    if np.random.rand() < best_rate:\n",
    "        n_clicks += 1\n",
    "    if it%1000 == 0:\n",
    "        x_values.append(it)\n",
    "        y_values.append(n_clicks)\n",
    "        plot_clicks(n_visits, x_values, y_values)\n",
    "\n",
    "print(\"%d clicks.\" % n_clicks)"
   ]
  },
  {
   "cell_type": "markdown",
   "metadata": {},
   "source": [
    "## Baseline : Optimal"
   ]
  },
  {
   "cell_type": "code",
   "execution_count": 77,
   "metadata": {
    "collapsed": false
   },
   "outputs": [
    {
     "data": {
      "image/png": "[encoded data removed]",
      "text/plain": [
       "<matplotlib.figure.Figure at 0x7fd9d8a42b00>"
      ]
     },
     "metadata": {},
     "output_type": "display_data"
    },
    {
     "name": "stdout",
     "output_type": "stream",
     "text": [
      "3096 clicks.\n"
     ]
    }
   ],
   "source": [
    "n_visits = int(1e4)\n",
    "\n",
    "n_clicks = 0\n",
    "x_values = []\n",
    "y_values = []\n",
    "\n",
    "for it in range(n_visits):\n",
    "    article = np.random.choice(article_ids)\n",
    "    if np.random.rand() < max(probas[article]):\n",
    "        n_clicks += 1\n",
    "    if it%1000 == 0:\n",
    "        x_values.append(it)\n",
    "        y_values.append(n_clicks)\n",
    "        plot_clicks(n_visits, x_values, y_values)\n",
    "\n",
    "print(\"%d clicks.\" % n_clicks)"
   ]
  },
  {
   "cell_type": "markdown",
   "metadata": {},
   "source": [
    "## UCB"
   ]
  },
  {
   "cell_type": "code",
   "execution_count": 82,
   "metadata": {
    "collapsed": false
   },
   "outputs": [
    {
     "data": {
      "image/png": "[encoded data removed]",
      "text/plain": [
       "<matplotlib.figure.Figure at 0x7fd9d889c0b8>"
      ]
     },
     "metadata": {},
     "output_type": "display_data"
    },
    {
     "name": "stdout",
     "output_type": "stream",
     "text": [
      "8211 clicks.\n"
     ]
    }
   ],
   "source": [
    "trials    = np.zeros_like(probas)\n",
    "successes = np.zeros_like(probas)\n",
    "\n",
    "unknown_proba = 0.5\n",
    "\n",
    "n_visits = int(1e5)\n",
    "n_clicks = 0\n",
    "x_values = []\n",
    "y_values = []\n",
    "\n",
    "for it in range(1, n_visits+1):\n",
    "    article = np.random.choice(article_ids)\n",
    "    probas_estim = successes/trials\n",
    "    probas_estim[np.isinf(probas_estim)] = unknown_proba\n",
    "    chosen_ad = np.argmax(probas_estim[article] \\\n",
    "                          + np.sqrt(2*np.log(i)/trials[article]))\n",
    "    trials[article, chosen_ad] += 1\n",
    "    if np.random.rand() < probas[article, chosen_ad]:\n",
    "        n_clicks += 1\n",
    "        successes[article, chosen_ad] +=1\n",
    "    if it % 1000 == 0:\n",
    "        x_values.append(it)\n",
    "        y_values.append(n_clicks)\n",
    "        plot_clicks(n_visits, x_values, y_values)\n",
    "\n",
    "print(\"%d clicks.\" % n_clicks)"
   ]
  }
 ],
 "metadata": {
  "kernelspec": {
   "display_name": "Python 3",
   "language": "python",
   "name": "python3"
  },
  "language_info": {
   "codemirror_mode": {
    "name": "ipython",
    "version": 3
   },
   "file_extension": ".py",
   "mimetype": "text/x-python",
   "name": "python",
   "nbconvert_exporter": "python",
   "pygments_lexer": "ipython3",
   "version": "3.5.2"
  }
 },
 "nbformat": 4,
 "nbformat_minor": 2
}

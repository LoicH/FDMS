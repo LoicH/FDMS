{
 "cells": [
  {
   "cell_type": "markdown",
   "metadata": {},
   "source": [
    "# Extracting & cleaning data"
   ]
  },
  {
   "cell_type": "code",
   "execution_count": 28,
   "metadata": {
    "collapsed": false,
    "deletable": true,
    "editable": true,
    "scrolled": false
   },
   "outputs": [
    {
     "name": "stdout",
     "output_type": "stream",
     "text": [
      "Train: \n",
      "<class 'pandas.core.frame.DataFrame'>\n",
      "RangeIndex: 891 entries, 0 to 890\n",
      "Data columns (total 11 columns):\n",
      "PassengerId    891 non-null int64\n",
      "Survived       891 non-null int64\n",
      "Pclass         891 non-null int64\n",
      "Sex            891 non-null int64\n",
      "Age            891 non-null float64\n",
      "SibSp          891 non-null int64\n",
      "Parch          891 non-null int64\n",
      "Fare           891 non-null float64\n",
      "Embarked_C     891 non-null uint8\n",
      "Embarked_Q     891 non-null uint8\n",
      "Embarked_S     891 non-null uint8\n",
      "dtypes: float64(2), int64(6), uint8(3)\n",
      "memory usage: 58.4 KB\n",
      "\n",
      "Test: \n",
      "<class 'pandas.core.frame.DataFrame'>\n",
      "RangeIndex: 418 entries, 0 to 417\n",
      "Data columns (total 10 columns):\n",
      "PassengerId    418 non-null int64\n",
      "Pclass         418 non-null int64\n",
      "Sex            418 non-null int64\n",
      "Age            418 non-null float64\n",
      "SibSp          418 non-null int64\n",
      "Parch          418 non-null int64\n",
      "Fare           418 non-null float64\n",
      "Embarked_C     418 non-null uint8\n",
      "Embarked_Q     418 non-null uint8\n",
      "Embarked_S     418 non-null uint8\n",
      "dtypes: float64(2), int64(5), uint8(3)\n",
      "memory usage: 24.2 KB\n"
     ]
    }
   ],
   "source": [
    "import pandas as pd \n",
    "import numpy as np\n",
    "from collections import Counter\n",
    "\n",
    "\n",
    "def clean_titanic(filename):\n",
    "    \"\"\"Clean the titanic CSV and returns the clean dataframe\"\"\"\n",
    "    \n",
    "    df = pd.read_csv(filename)\n",
    "\n",
    "    # Remove unneeded info\n",
    "    df.drop(['Name', 'Ticket', 'Cabin'], axis=1, inplace=True)\n",
    "    \n",
    "    #Fill age\n",
    "    age_mean = df['Age'].mean()\n",
    "    df['Age'] = df['Age'].fillna(age_mean)\n",
    "    \n",
    "    #Fill fare\n",
    "    fare_mean = df['Fare'].mean()\n",
    "    df['Fare'] = df['Fare'].fillna(fare_mean)\n",
    "    \n",
    "    # Replace strings with numbers\n",
    "    df['Sex'] = df['Sex'].map({'female':0, 'male':1})\n",
    "    \n",
    "    # Fill embarked\n",
    "    embarked = Counter(df['Embarked'])\n",
    "    most_common = embarked.most_common(1)[0][0]\n",
    "    df['Embarked'] = df['Embarked'].fillna('S')\n",
    "\n",
    "    # Replace strings with columns\n",
    "    dummies = pd.get_dummies(df['Embarked'], prefix='Embarked')\n",
    "    df = pd.concat([df, dummies], axis=1)\n",
    "    df.drop(['Embarked'], axis=1, inplace=True)\n",
    "    \n",
    "    return df\n",
    "    \n",
    "train_df = clean_titanic('train.csv')\n",
    "test_df = clean_titanic('test.csv')\n",
    "print(\"Train: \")\n",
    "train_df.info()\n",
    "print(\"\\nTest: \")\n",
    "test_df.info()"
   ]
  },
  {
   "cell_type": "markdown",
   "metadata": {},
   "source": [
    "# Extracting arrays from dataframes"
   ]
  },
  {
   "cell_type": "code",
   "execution_count": 32,
   "metadata": {
    "collapsed": false,
    "deletable": true,
    "editable": true
   },
   "outputs": [],
   "source": [
    "X = train_df.iloc[:,2:].values\n",
    "Y = train_df['Survived'].values\n",
    "\n",
    "X_test = test_df.iloc[:,1:].values\n",
    "\n",
    "\n",
    "from sklearn.model_selection import train_test_split\n",
    "\n",
    "X_train, X_val, Y_train, Y_val = train_test_split(X, Y, test_size=0.3)\n"
   ]
  },
  {
   "cell_type": "markdown",
   "metadata": {},
   "source": [
    "# Fitting an estimator"
   ]
  },
  {
   "cell_type": "code",
   "execution_count": 33,
   "metadata": {
    "collapsed": false,
    "deletable": true,
    "editable": true
   },
   "outputs": [
    {
     "name": "stdout",
     "output_type": "stream",
     "text": [
      "0.805970149254\n"
     ]
    }
   ],
   "source": [
    "from sklearn.ensemble import RandomForestClassifier \n",
    "\n",
    "clf = RandomForestClassifier(n_estimators=100, random_state=0)\n",
    "clf = clf.fit(X_train, Y_train)\n",
    "print(clf.score(X_val, Y_val))"
   ]
  },
  {
   "cell_type": "markdown",
   "metadata": {},
   "source": [
    "# Predicting the output"
   ]
  },
  {
   "cell_type": "code",
   "execution_count": 39,
   "metadata": {
    "collapsed": false
   },
   "outputs": [
    {
     "name": "stdout",
     "output_type": "stream",
     "text": [
      "   PassengerId  Survived\n",
      "0          892         0\n",
      "1          893         0\n",
      "2          894         0\n",
      "3          895         1\n",
      "4          896         1\n"
     ]
    }
   ],
   "source": [
    "Y_test = clf.predict(X_test)\n",
    "\n",
    "output = pd.DataFrame(test_df['PassengerId'])\n",
    "output.insert(1, \"Survived\", Y_test)\n",
    "\n",
    "print(output.head())\n",
    "output.to_csv(path_or_buf=\"titanic_predict.csv\", index=False)"
   ]
  },
  {
   "cell_type": "code",
   "execution_count": null,
   "metadata": {
    "collapsed": true
   },
   "outputs": [],
   "source": []
  }
 ],
 "metadata": {
  "kernelspec": {
   "display_name": "Python 3",
   "language": "python",
   "name": "python3"
  },
  "language_info": {
   "codemirror_mode": {
    "name": "ipython",
    "version": 3
   },
   "file_extension": ".py",
   "mimetype": "text/x-python",
   "name": "python",
   "nbconvert_exporter": "python",
   "pygments_lexer": "ipython3",
   "version": "3.5.2"
  }
 },
 "nbformat": 4,
 "nbformat_minor": 2
}

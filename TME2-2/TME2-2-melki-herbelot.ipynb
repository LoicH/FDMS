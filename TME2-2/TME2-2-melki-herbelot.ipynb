{
 "cells": [
  {
   "cell_type": "markdown",
   "metadata": {},
   "source": [
    "# TME 2 - 2 : Inférence collective\n",
    "\n",
    "## Partie 1 - Classifieur local"
   ]
  },
  {
   "cell_type": "code",
   "execution_count": 87,
   "metadata": {
    "collapsed": false
   },
   "outputs": [
    {
     "name": "stdout",
     "output_type": "stream",
     "text": [
      "\n",
      "=== url ===\n",
      "0                 http://cam.cornell.edu/ph/index.html\n",
      "1           http://cam.cornell.edu/~baggett/index.html\n",
      "2                          http://cs-tr.cs.cornell.edu\n",
      "3    http://cs.cornell.edu/info/courses/current/cs4...\n",
      "4    http://cs.cornell.edu/info/courses/fall-95/cs4...\n",
      "Name: 0, dtype: object\n",
      "\n",
      "=== labels ===\n",
      "0    student\n",
      "1    student\n",
      "2    project\n",
      "3     course\n",
      "4     course\n",
      "Name: 1704, dtype: object\n",
      "\n",
      "=== attributes ===\n",
      "   1     2     3     4     5     6     7     8     9     10    ...   1694  \\\n",
      "0     0     0     0     0     0     0     0     0     0     0  ...      0   \n",
      "1     0     0     0     0     0     0     0     0     1     0  ...      0   \n",
      "2     0     0     0     0     0     0     0     0     0     0  ...      0   \n",
      "3     0     0     0     0     0     0     0     0     0     0  ...      0   \n",
      "4     0     0     0     0     0     0     0     0     0     0  ...      0   \n",
      "\n",
      "   1695  1696  1697  1698  1699  1700  1701  1702  1703  \n",
      "0     0     0     0     0     0     0     0     0     0  \n",
      "1     0     0     0     0     0     0     0     0     0  \n",
      "2     0     0     0     0     0     0     0     0     0  \n",
      "3     0     0     0     0     0     1     0     0     0  \n",
      "4     0     1     0     0     0     0     0     0     0  \n",
      "\n",
      "[5 rows x 1703 columns]\n",
      "\n",
      "Unlabeled items:\n",
      "['http://www.cs.cornell.edu/info/courses/current/cs611/home.html'\n",
      " 'http://www.cs.cornell.edu/info/people/weichen/weichen.html'\n",
      " 'http://www.cs.cornell.edu/info/people/ychuang/ychuang.html'\n",
      " 'http://www.cs.cornell.edu/info/courses/fall-95/cs472/cs472.html'\n",
      " 'http://www.cs.cornell.edu/info/people/jyh/jyh.html'\n",
      " 'http://www.cs.cornell.edu/info/courses/spring-96/cs674/cs674.html'\n",
      " 'http://dri.cornell.edu/pub/people/davis.html' 'http://dri.cornell.edu'\n",
      " 'http://www.cs.cornell.edu/info/people/chichao/chichao.html'\n",
      " 'http://www.cs.cornell.edu/info/people/huang/huang.html'\n",
      " 'http://www.cs.cornell.edu/info/people/jrdiazh/jrdiazh.html'\n",
      " 'http://www.cs.cornell.edu/info/department/annual95/faculty/hartmanis.html'\n",
      " 'http://www.tc.cornell.edu/~anne'\n",
      " 'http://www.cs.cornell.edu/info/people/lhwang/lhwang.html'\n",
      " 'http://www.tc.cornell.edu/visualization/education/cs417'\n",
      " 'http://www.cs.cornell.edu/info/people/nikos/cs222/cs222.html'\n",
      " 'http://www.cs.cornell.edu/info/people/tt/tim_teitelbaum.html'\n",
      " 'http://www.cs.cornell.edu/info/people/ychung/ychung.html'\n",
      " 'http://www.cs.cornell.edu/info/people/mhr/mhr.html']\n",
      "Page d'exemple: http://simon.cs.cornell.edu/info/people/vogels dans unlabeled: False\n"
     ]
    }
   ],
   "source": [
    "import pandas as pd\n",
    "import numpy as np\n",
    "\n",
    "# Constantes : \n",
    "path = 'WebKB/'\n",
    "univ = 'cornell'\n",
    "percentage_unlabeled = 0.1\n",
    "\n",
    "# On parse les données\n",
    "#path = '/Users/ACHANGER/Desktop/UPMC/FDMS-2/WebKB/'\n",
    "# Fichier 'content' contient des lignes « [URL]\\t[Attributs:suite de nombres]\\t[Étiquette] »\n",
    "content = pd.read_csv(path + 'content/'+univ+'.content', sep ='\\t', header=None)\n",
    "# Fichier 'cites' contient des liens « [destination] [source] »\n",
    "cites   = pd.read_csv(path + 'cites/'+univ+'.cites',     sep =' ', header=None)\n",
    "\n",
    "# Les identifiants des sites web sont leur URL :\n",
    "M = len(content)\n",
    "N = content.shape[1] - 2\n",
    "url = content.iloc[:,0] \n",
    "labels = content.iloc[:,-1] \n",
    "attributes = content.drop([0, N+1],axis=1)\n",
    "\n",
    "print(\"\\n=== url ===\")\n",
    "print(url.head())\n",
    "print(\"\\n=== labels ===\")\n",
    "print(labels.head())\n",
    "print(\"\\n=== attributes ===\")\n",
    "print(attributes.head())\n",
    "\n",
    "\n",
    "unlabeled = np.random.choice(url, size=int(M*percentage_unlabeled))\n",
    "print(\"\\nUnlabeled items:\")\n",
    "print(unlabeled)\n",
    "example_page = \"http://simon.cs.cornell.edu/info/people/vogels\" #np.random.choice(url)\n",
    "print(\"Page d'exemple:\", example_page, \"dans unlabeled:\", example_page in unlabeled)\n"
   ]
  },
  {
   "cell_type": "code",
   "execution_count": 88,
   "metadata": {
    "collapsed": false
   },
   "outputs": [
    {
     "name": "stdout",
     "output_type": "stream",
     "text": [
      "Voisins de http://simon.cs.cornell.edu/info/people/vogels :\n",
      "(url, label, unlabeled)\n",
      "[('http://www.cs.cornell.edu/info/people/tve/tve.html', 1, False), ('http://www.cs.cornell.edu/info/faculty/brian_smith.html', 1, False), ('http://www.cs.cornell.edu/info/people/rvr/rvr.html', 3, False)]\n"
     ]
    }
   ],
   "source": [
    "# Conversion des labels depuis string vers int\n",
    "url_to_labels = dict(zip(url, labels))\n",
    "unique_labels = sorted(np.unique(labels))\n",
    "labels_to_id = dict(zip(unique_labels, range(len(unique_labels))))\n",
    "url_pos = dict(zip(url, range(M)))\n",
    "\n",
    "# Parsing du réseau depuis fichier 'cites'\n",
    "network = {}\n",
    "for line in cites.iterrows():\n",
    "    src = line[1][1]\n",
    "    dest = line[1][0]\n",
    "    if src in network:\n",
    "        network[src].add(dest)\n",
    "    else:\n",
    "        network[src] = set([dest])\n",
    "\n",
    "print(\"Voisins de \"+example_page+\" :\")\n",
    "if example_page in network:\n",
    "    print(\"(url, label, unlabeled)\")\n",
    "    print([(v, labels_to_id[url_to_label[v]], v in unlabeled) for v in network[example_page]])\n",
    "else:\n",
    "    print(\"Pas de citations depuis cette page\")\n"
   ]
  },
  {
   "cell_type": "code",
   "execution_count": 89,
   "metadata": {
    "collapsed": false
   },
   "outputs": [
    {
     "name": "stdout",
     "output_type": "stream",
     "text": [
      "[ 0.  2.  0.  1.  0.]\n"
     ]
    }
   ],
   "source": [
    "# Comptage des classes des voisins\n",
    "# Dans 'count' : 1 ligne = 1 url, 1 colonne = 1 classe (classes triées par ordre alphabétique) \n",
    "count = np.zeros((M, len(unique_labels)))\n",
    "\n",
    "# On itère sur tous les noeuds qui ont des liens sortants\n",
    "for noeud, voisins in network.items():\n",
    "    position = url_pos[noeud]\n",
    "    for voisin in network[noeud]:\n",
    "        voisin_label = label_to_id[url_to_label[voisin]]\n",
    "        if voisin not in unlabeled:\n",
    "            count[position, voisin_label] += 1\n",
    "            \n",
    "print(count[url_pos[example_page]])"
   ]
  },
  {
   "cell_type": "code",
   "execution_count": 90,
   "metadata": {
    "collapsed": false
   },
   "outputs": [
    {
     "name": "stdout",
     "output_type": "stream",
     "text": [
      "0.736842105263\n",
      "(array([0, 1, 2, 3, 4]), array([42, 32, 19, 19, 83]))\n",
      "[3 0 4 2 4 1 0 4 4 4 4 1 4 4 0 4 4 0 0]\n",
      "[3 0 1 4 2 3 0 4 4 4 4 1 4 4 0 4 1 0 0]\n"
     ]
    }
   ],
   "source": [
    "# Classification\n",
    "\n",
    "from sklearn import preprocessing\n",
    "from sklearn.svm import SVC\n",
    "from sklearn.ensemble import RandomForestClassifier \n",
    "from sklearn.grid_search import GridSearchCV\n",
    "\n",
    "X = np.concatenate((np.array(attributes),count),axis=1)\n",
    "X = preprocessing.scale(X)\n",
    "Y = np.array([label_to_id[lab] for lab in label])\n",
    "\n",
    "idx = set(range(M))\n",
    "test_idx = set([url_pos[u] for u in unlabeled])\n",
    "train_idx = idx - test_idx\n",
    "\n",
    "X_train, X_test = X[list(train_idx)], X[list(test_idx)]\n",
    "Y_train, Y_test = Y[list(train_idx)], Y[list(test_idx)]\n",
    "\n",
    "clf = RandomForestClassifier()\n",
    "\n",
    "clf.fit(X_train, Y_train)\n",
    "print(clf.score(X_test, Y_test))\n",
    "print(np.unique(y, return_counts=True))\n",
    "print(clf.predict(X_test))\n",
    "print(Y_test)\n",
    "\n"
   ]
  }
 ],
 "metadata": {
  "kernelspec": {
   "display_name": "Python 3",
   "language": "python",
   "name": "python3"
  },
  "language_info": {
   "codemirror_mode": {
    "name": "ipython",
    "version": 3
   },
   "file_extension": ".py",
   "mimetype": "text/x-python",
   "name": "python",
   "nbconvert_exporter": "python",
   "pygments_lexer": "ipython3",
   "version": "3.5.2"
  }
 },
 "nbformat": 4,
 "nbformat_minor": 2
}

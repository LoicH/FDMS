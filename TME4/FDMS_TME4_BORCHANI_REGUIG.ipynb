{
 "cells": [
  {
   "cell_type": "markdown",
   "metadata": {
    "deletable": true,
    "editable": true
   },
   "source": [
    "# FDMS - TME4 - BAGGING ET BOOSTING\n",
    "Borchani Slim / Ghiles Reguig\n",
    "## Travail demandé: \n",
    "* Implémentation du Bagging\n",
    "    - Tester le modèle sur des arbres de décisions\n",
    "    - Evaluer l'erreur en géneralisation par rapport à un arbre unique\n",
    "\n",
    "* Implémentation Boosting\n",
    "    - Applications sur des stumps\n",
    "    - Erreur d'apprentissage et en test en fonction du nombre de classifieur\n",
    "    - Analyse des points associés aux poids les plus élevés\n",
    "    - Géneralisation en fonction de la profondeur des arbres"
   ]
  },
  {
   "cell_type": "markdown",
   "metadata": {
    "deletable": true,
    "editable": true
   },
   "source": [
    "## Import :"
   ]
  },
  {
   "cell_type": "code",
   "execution_count": 1,
   "metadata": {
    "collapsed": true,
    "deletable": true,
    "editable": true
   },
   "outputs": [],
   "source": [
    "%matplotlib inline\n",
    "\n",
    "import numpy as np\n",
    "from sklearn import tree\n",
    "from sklearn.datasets import load_iris\n",
    "from sklearn.base import clone\n",
    "from sklearn.model_selection import train_test_split\n",
    "from sklearn.tree import DecisionTreeClassifier\n",
    "from sklearn import datasets\n",
    "import matplotlib.pyplot as plt"
   ]
  },
  {
   "cell_type": "markdown",
   "metadata": {
    "deletable": true,
    "editable": true
   },
   "source": [
    "## Algorithme du Bagging\n",
    "\n",
    "L'algorithme du Bagging consiste à prédire sur un jeu de donnée à l'aide de plusieurs classifieurs, et de récuperer pour chaque prédiction, la prédiction qui a le plus d'occurences.\n",
    "Ainsi cet algorithme permet d'améliorer la stabilitée de certaines procédure en réduisant la variance et en évitant le sur-apprentissage."
   ]
  },
  {
   "cell_type": "markdown",
   "metadata": {
    "deletable": true,
    "editable": true
   },
   "source": [
    "## Code Bagging: "
   ]
  },
  {
   "cell_type": "code",
   "execution_count": 2,
   "metadata": {
    "collapsed": true,
    "deletable": true,
    "editable": true
   },
   "outputs": [],
   "source": [
    "class Bagging(object) :\n",
    "    \n",
    "    def __init__(self, base_clf=tree.DecisionTreeClassifier(), nbClf=10, percTrain=0.66):\n",
    "        self.base_clf = base_clf\n",
    "        self.nbClf = nbClf\n",
    "        self.bag = [clone(self.base_clf) for _ in range(nbClf)]\n",
    "        self.percTrain = percTrain\n",
    "        \n",
    "    def fit(self, x, y):\n",
    "        index = range(len(x))\n",
    "        nbTrain = int(self.percTrain*len(x))\n",
    "        \n",
    "        #On train le modèle\n",
    "        for clf in self.bag:\n",
    "            np.random.shuffle(index)\n",
    "            i = index[:nbTrain]\n",
    "            clf.fit(x[i], y[i])\n",
    "            \n",
    "    def predict(self, x):\n",
    "        #On récupère le argmax qui possède le plus d'occurence \n",
    "        self.preds = np.array([clf.predict(x) for clf in self.bag]).T\n",
    "        return np.array([np.argmax(np.bincount(pred)) for pred in self.preds])\n",
    "        \n",
    "    def score(self, x, y):\n",
    "        pred = self.predict(x)\n",
    "        return (y.reshape(pred.shape) == pred).mean()"
   ]
  },
  {
   "cell_type": "markdown",
   "metadata": {
    "deletable": true,
    "editable": true
   },
   "source": [
    "## DataSet :"
   ]
  },
  {
   "cell_type": "code",
   "execution_count": 3,
   "metadata": {
    "collapsed": false,
    "deletable": true,
    "editable": true
   },
   "outputs": [],
   "source": [
    "dataset = load_iris()\n",
    "x = dataset['data']\n",
    "y = dataset['target']"
   ]
  },
  {
   "cell_type": "markdown",
   "metadata": {
    "deletable": true,
    "editable": true
   },
   "source": [
    "## Performances du Bagging en fonction du nombre de classifieur et son erreur en géneralisation par rapport à un arbre unique"
   ]
  },
  {
   "cell_type": "code",
   "execution_count": 4,
   "metadata": {
    "collapsed": false,
    "deletable": true,
    "editable": true
   },
   "outputs": [
    {
     "ename": "TypeError",
     "evalue": "'range' object does not support item assignment",
     "output_type": "error",
     "traceback": [
      "\u001b[0;31m---------------------------------------------------------------------------\u001b[0m",
      "\u001b[0;31mTypeError\u001b[0m                                 Traceback (most recent call last)",
      "\u001b[0;32m<ipython-input-4-e9d0845d59f5>\u001b[0m in \u001b[0;36m<module>\u001b[0;34m()\u001b[0m\n\u001b[1;32m     18\u001b[0m \u001b[0;34m\u001b[0m\u001b[0m\n\u001b[1;32m     19\u001b[0m         \u001b[0;31m#On entraine le modèle puis on prédit\u001b[0m\u001b[0;34m\u001b[0m\u001b[0;34m\u001b[0m\u001b[0m\n\u001b[0;32m---> 20\u001b[0;31m         \u001b[0mb\u001b[0m\u001b[0;34m.\u001b[0m\u001b[0mfit\u001b[0m\u001b[0;34m(\u001b[0m\u001b[0mxTrain\u001b[0m\u001b[0;34m,\u001b[0m \u001b[0myTrain\u001b[0m\u001b[0;34m)\u001b[0m\u001b[0;34m\u001b[0m\u001b[0m\n\u001b[0m\u001b[1;32m     21\u001b[0m         \u001b[0mPred\u001b[0m \u001b[0;34m=\u001b[0m \u001b[0mb\u001b[0m\u001b[0;34m.\u001b[0m\u001b[0mpredict\u001b[0m\u001b[0;34m(\u001b[0m\u001b[0mxTest\u001b[0m\u001b[0;34m)\u001b[0m\u001b[0;34m\u001b[0m\u001b[0m\n\u001b[1;32m     22\u001b[0m \u001b[0;34m\u001b[0m\u001b[0m\n",
      "\u001b[0;32m<ipython-input-2-2e4a20d0301c>\u001b[0m in \u001b[0;36mfit\u001b[0;34m(self, x, y)\u001b[0m\n\u001b[1;32m     13\u001b[0m         \u001b[0;31m#On train le modèle\u001b[0m\u001b[0;34m\u001b[0m\u001b[0;34m\u001b[0m\u001b[0m\n\u001b[1;32m     14\u001b[0m         \u001b[0;32mfor\u001b[0m \u001b[0mclf\u001b[0m \u001b[0;32min\u001b[0m \u001b[0mself\u001b[0m\u001b[0;34m.\u001b[0m\u001b[0mbag\u001b[0m\u001b[0;34m:\u001b[0m\u001b[0;34m\u001b[0m\u001b[0m\n\u001b[0;32m---> 15\u001b[0;31m             \u001b[0mnp\u001b[0m\u001b[0;34m.\u001b[0m\u001b[0mrandom\u001b[0m\u001b[0;34m.\u001b[0m\u001b[0mshuffle\u001b[0m\u001b[0;34m(\u001b[0m\u001b[0mindex\u001b[0m\u001b[0;34m)\u001b[0m\u001b[0;34m\u001b[0m\u001b[0m\n\u001b[0m\u001b[1;32m     16\u001b[0m             \u001b[0mi\u001b[0m \u001b[0;34m=\u001b[0m \u001b[0mindex\u001b[0m\u001b[0;34m[\u001b[0m\u001b[0;34m:\u001b[0m\u001b[0mnbTrain\u001b[0m\u001b[0;34m]\u001b[0m\u001b[0;34m\u001b[0m\u001b[0m\n\u001b[1;32m     17\u001b[0m             \u001b[0mclf\u001b[0m\u001b[0;34m.\u001b[0m\u001b[0mfit\u001b[0m\u001b[0;34m(\u001b[0m\u001b[0mx\u001b[0m\u001b[0;34m[\u001b[0m\u001b[0mi\u001b[0m\u001b[0;34m]\u001b[0m\u001b[0;34m,\u001b[0m \u001b[0my\u001b[0m\u001b[0;34m[\u001b[0m\u001b[0mi\u001b[0m\u001b[0;34m]\u001b[0m\u001b[0;34m)\u001b[0m\u001b[0;34m\u001b[0m\u001b[0m\n",
      "\u001b[0;32mmtrand.pyx\u001b[0m in \u001b[0;36mmtrand.RandomState.shuffle (numpy/random/mtrand/mtrand.c:39350)\u001b[0;34m()\u001b[0m\n",
      "\u001b[0;32mmtrand.pyx\u001b[0m in \u001b[0;36mmtrand.RandomState.shuffle (numpy/random/mtrand/mtrand.c:39302)\u001b[0;34m()\u001b[0m\n",
      "\u001b[0;31mTypeError\u001b[0m: 'range' object does not support item assignment"
     ]
    }
   ],
   "source": [
    "#Test sur plusieurs valeur de nbClf\n",
    "nbClf = [1,2,5,10,20,50,100,200,500,750,1000]\n",
    "\n",
    "predBag = []\n",
    "predArbre = []\n",
    "varBag = []\n",
    "varArbre = []\n",
    "\n",
    "for i in nbClf:\n",
    "    predBagmoy = []\n",
    "    predArbremoy = []\n",
    "  \n",
    "    #On fait une moyenne pour arrondir les courbes\n",
    "    for j in range(0,5):\n",
    "        #Initialisation\n",
    "        b = Bagging(nbClf = i)\n",
    "        xTrain, xTest, yTrain, yTest = train_test_split(x, y, test_size=0.3)\n",
    "        \n",
    "        #On entraine le modèle puis on prédit\n",
    "        b.fit(xTrain, yTrain)\n",
    "        Pred = b.predict(xTest)\n",
    "        \n",
    "        #On récupère le score pour bagging\n",
    "        score = b.score(xTest,yTest)\n",
    "        predBagmoy.append(score)\n",
    "        \n",
    "        #On récupere score pour arbre\n",
    "        t = tree.DecisionTreeClassifier()\n",
    "        t.fit(xTrain, yTrain)\n",
    "        predArbremoy.append(t.score(xTest, yTest))\n",
    "    \n",
    "    #Erreur = 1 - Score \n",
    "    varBag.append(np.std(predBagmoy))\n",
    "    varArbre.append(np.std(predArbremoy))\n",
    "    predBag.append(1 - np.mean(predBagmoy))\n",
    "    predArbre.append(1 - np.mean(predArbremoy))\n",
    "    \n",
    "    \n",
    "plt.figure()\n",
    "plt.errorbar(nbClf, predBag, yerr=varBag)\n",
    "plt.errorbar(nbClf, predArbre, yerr=varArbre)\n",
    "#plt.plot(nbClf,predBag)\n",
    "#plt.plot(nbClf,predArbre)\n",
    "plt.legend([\"predBag\", \"predArbre\"])\n",
    "plt.title(\"Erreur du bagging en fonction du nombre de classifieur\")"
   ]
  },
  {
   "cell_type": "markdown",
   "metadata": {
    "deletable": true,
    "editable": true
   },
   "source": [
    "Quel que soit la valeur du nombre de classsifieur à utiliser pour prédire les données en test, l'erreur est autour des 0,04, notre modèle ne sur-apprend pas.\n",
    "Son erreur en géneralisation est assez identique à l'arbre unique d'sklearn. "
   ]
  },
  {
   "cell_type": "markdown",
   "metadata": {
    "deletable": true,
    "editable": true
   },
   "source": [
    "## Algorithme du Boosting :\n",
    "\n",
    "L'algorithme du Boosting consiste à faire une sélection itérative de classifieur faible  en fonction d'une distribution des exemples d'apprentissage. Chaque exemple est pondéré en fonction de sa difficulté avec le classifieur courant."
   ]
  },
  {
   "cell_type": "markdown",
   "metadata": {
    "deletable": true,
    "editable": true
   },
   "source": [
    "## Code Boosting :"
   ]
  },
  {
   "cell_type": "code",
   "execution_count": 5,
   "metadata": {
    "collapsed": true,
    "deletable": true,
    "editable": true
   },
   "outputs": [],
   "source": [
    "class Boosting(object):\n",
    "    \n",
    "    def __init__(self,classifier = DecisionTreeClassifier(max_depth = 1),maxClassifiers = 100,seuil=0.001):\n",
    "        self.classifier = classifier\n",
    "        self.maxClassifiers = maxClassifiers\n",
    "        self.seuil = seuil\n",
    "    \n",
    "    def fit(self,datax,datay):\n",
    "        \n",
    "        #Poids associes a chaque exemple\n",
    "        self.weights = np.array([1.0/datax.shape[0]]*datax.shape[0])\n",
    "        self.w_histo = []\n",
    "        self.w_histo.append(self.weights)\n",
    "        \n",
    "        nbClassif = 0\n",
    "        erreur = self.seuil + 1\n",
    "        \n",
    "        self.alphas = []\n",
    "        self.classifs = []\n",
    "        normZ = datax.shape[0]\n",
    "        \n",
    "        while(nbClassif <= self.maxClassifiers and erreur > self.seuil):\n",
    "            \n",
    "            #fit du classifieur\n",
    "            self.classifier = clone(self.classifier)\n",
    "            c = self.classifier\n",
    "            c.fit(datax,datay,sample_weight = self.weights)\n",
    "            predictions = c.predict(datax)\n",
    "\n",
    "            #Calcul de l'erreur\n",
    "            erreur = predictions != datay\n",
    "            erreur = np.sum(self.weights * erreur)\n",
    "\n",
    "            #Calcul de la valeur alpha\n",
    "            if (erreur != 0):\n",
    "                alpha = 0.5 * np.log((1-erreur)/erreur)\n",
    "            else : \n",
    "                alpha = 1.0\n",
    "\n",
    "            #Ajout de la valeur alpha a la liste des valeurs alpha\n",
    "            self.alphas.append(alpha)\n",
    "            \n",
    "            #Ajout du classifieur a la liste des classifieurs\n",
    "            self.classifs.append(c)\n",
    "            \n",
    "            #Calcul du coefficient de normalisation\n",
    "            expErreurAlpha = np.exp(-1.0*alpha*datay*predictions)\n",
    "\n",
    "            #Mise a jour des poids\n",
    "            self.weights = self.weights * expErreurAlpha\n",
    "            normZ = np.sum(self.weights)\n",
    "            self.weights=self.weights / normZ\n",
    "            self.w_histo.append(self.weights)\n",
    "            #Creation d'un nouveau classifieur\n",
    "            nbClassif += 1\n",
    "            \n",
    "    def predict(self,datax):\n",
    "        prediction = np.sum([self.alphas[i] * self.classifs[i].predict(datax) for i in range(len(self.classifs))],axis=0)\n",
    "        return np.sign(prediction)\n",
    "    \n",
    "    def score(self, x, y):\n",
    "        pred = self.predict(x)\n",
    "        return (y.reshape(pred.shape) == pred).mean()"
   ]
  },
  {
   "cell_type": "markdown",
   "metadata": {
    "deletable": true,
    "editable": true
   },
   "source": [
    "Si un classifieur ne gère pas naturellement les pondérations il suffit de lui donner la valeur n fois, avec n correspondant au poids associé à la valeur. Par exemple avec X de poids 1, Y de poids 2 et Z de poids 3, il suffit de lui 1 X, 2 Y, et 3 Z."
   ]
  },
  {
   "cell_type": "markdown",
   "metadata": {
    "deletable": true,
    "editable": true
   },
   "source": [
    "## Dataset :"
   ]
  },
  {
   "cell_type": "code",
   "execution_count": 6,
   "metadata": {
    "collapsed": true,
    "deletable": true,
    "editable": true
   },
   "outputs": [],
   "source": [
    "dataset = datasets.load_breast_cancer()\n",
    "x = dataset['data']\n",
    "y = dataset['target']\n",
    "y[y==0]=-1"
   ]
  },
  {
   "cell_type": "markdown",
   "metadata": {
    "deletable": true,
    "editable": true
   },
   "source": [
    "## Courbes d'erreur en Test et en Train en fonction du nombre de classifieurs."
   ]
  },
  {
   "cell_type": "code",
   "execution_count": 8,
   "metadata": {
    "collapsed": false,
    "deletable": true,
    "editable": true
   },
   "outputs": [
    {
     "data": {
      "text/plain": [
       "<matplotlib.text.Text at 0x7fb6b2798278>"
      ]
     },
     "execution_count": 8,
     "metadata": {},
     "output_type": "execute_result"
    },
    {
     "data": {
      "image/png": "[encoded data removed]",
      "text/plain": [
       "<matplotlib.figure.Figure at 0x7fb6b27cb978>"
      ]
     },
     "metadata": {},
     "output_type": "display_data"
    }
   ],
   "source": [
    "scoreTrain = []\n",
    "scoreTest =[]\n",
    "\n",
    "val = [1, 5, 10, 50, 100]#, 200, 500, 1000,2000,5000]\n",
    "\n",
    "for i in val:\n",
    "    scorusTest = []\n",
    "    scorusTrain = []\n",
    "    for j in range(0,5):\n",
    "        xTrain, xTest, yTrain, yTest = train_test_split(x, y, test_size=0.3) \n",
    "        boosting = Boosting(maxClassifiers = i)\n",
    "        boosting.fit(xTrain, yTrain)\n",
    "        scorusTrain.append(boosting.score(xTrain,yTrain))\n",
    "        scorusTest.append(boosting.score(xTest,yTest))\n",
    "    \n",
    "    scoreTest.append(1-np.mean(scorusTest))\n",
    "    scoreTrain.append(1-np.mean(scorusTrain))\n",
    "    \n",
    "plt.figure()\n",
    "plt.plot(val,scoreTrain)\n",
    "plt.plot(val,scoreTest)\n",
    "plt.legend([\"scoreTrain\", \"scoreTest\"])\n",
    "plt.title(\"Erreur en test et en train en fonction du nombre de classifieur\")\n"
   ]
  },
  {
   "cell_type": "markdown",
   "metadata": {
    "deletable": true,
    "editable": true
   },
   "source": [
    "L'erreur en test et en apprentissage est faible et constante, de l'ordre de 0,04."
   ]
  },
  {
   "cell_type": "markdown",
   "metadata": {
    "deletable": true,
    "editable": true
   },
   "source": [
    "## Affichage des points associés aux poids les plus élevés,  et leur évolutions en fonction du  nombre de classifieur."
   ]
  },
  {
   "cell_type": "code",
   "execution_count": null,
   "metadata": {
    "collapsed": false,
    "deletable": true,
    "editable": true
   },
   "outputs": [],
   "source": [
    "val = [1, 5, 10, 50, 100, 200, 500, 1000,2000,5000]\n",
    "\n",
    "boosting = Boosting(maxClassifiers = 1)\n",
    "boosting.fit(xTrain, yTrain)\n",
    "index = np.argsort(boosting.weights)[-10:]\n",
    "classifs = []\n",
    "for i in val:\n",
    "    \n",
    "    b = Boosting(maxClassifiers = i)\n",
    "    b.fit(xTrain, yTrain)\n",
    "    classifs.append(b.predict(xTrain[index]) == yTrain[index])\n",
    "    \n",
    "colors = [['b' if j== True else 'r' for j in i ] for i in classifs]\n",
    "plt.figure()\n",
    "for i in range(len(val)):\n",
    "    #print([val[i]]*len(index))\n",
    "    plt.scatter(index,[val[i]] * len(index),c=colors[i])\n",
    "plt.title(\"Prediction des points ayant les poids les plus lourd en fonction du nombre de classifieurs\")"
   ]
  },
  {
   "cell_type": "markdown",
   "metadata": {
    "deletable": true,
    "editable": true
   },
   "source": [
    "Les points ayant les poids les plus lours sont souvent bien prédis pour tout nombre de classifieur, mais il arrive que pour un nombre de classifieur de 1 , il se trompe. Il faudrait des données beaucoup plus complexes pour analyser celà en détails."
   ]
  },
  {
   "cell_type": "markdown",
   "metadata": {
    "deletable": true,
    "editable": true
   },
   "source": [
    "## Géneralisation en fonction de la profondeur des arbres"
   ]
  },
  {
   "cell_type": "code",
   "execution_count": 56,
   "metadata": {
    "collapsed": false,
    "deletable": true,
    "editable": true
   },
   "outputs": [
    {
     "data": {
      "text/plain": [
       "<matplotlib.legend.Legend at 0x7ff278f70c90>"
      ]
     },
     "execution_count": 56,
     "metadata": {},
     "output_type": "execute_result"
    },
    {
     "data": {
      "image/png": "[encoded data removed]",
      "text/plain": [
       "<matplotlib.figure.Figure at 0x7ff279f92050>"
      ]
     },
     "metadata": {},
     "output_type": "display_data"
    }
   ],
   "source": [
    "for i in range(1,30):\n",
    "    scorusTest = []\n",
    "    scorusTrain = []\n",
    "    for j in range(0,5):\n",
    "        xTrain, xTest, yTrain, yTest = train_test_split(x, y, test_size=0.3) \n",
    "        boosting = Boosting(DecisionTreeClassifier(max_depth = i))\n",
    "        boosting.fit(xTrain, yTrain)\n",
    "        scorusTrain.append(boosting.score(xTrain,yTrain))\n",
    "        scorusTest.append(boosting.score(xTest,yTest))\n",
    "    \n",
    "    scoreTest.append(1-np.mean(scorusTest))\n",
    "    scoreTrain.append(1-np.mean(scorusTrain))\n",
    "    \n",
    "plt.figure()\n",
    "plt.plot(scoreTrain)\n",
    "#plt.title(\"ScoreTrain\")\n",
    "\n",
    "plt.plot(scoreTest)\n",
    "plt.legend([\"scoreTrain\", \"scoreTest\"])\n",
    "#plt.title(\"ScoreTest\")"
   ]
  },
  {
   "cell_type": "markdown",
   "metadata": {
    "deletable": true,
    "editable": true
   },
   "source": [
    "Plus la profondeur des arbres augmente , plus le modèle géneralise et donc l'erreur en test augmente."
   ]
  }
 ],
 "metadata": {
  "kernelspec": {
   "display_name": "Python 3",
   "language": "python",
   "name": "python3"
  },
  "language_info": {
   "codemirror_mode": {
    "name": "ipython",
    "version": 3
   },
   "file_extension": ".py",
   "mimetype": "text/x-python",
   "name": "python",
   "nbconvert_exporter": "python",
   "pygments_lexer": "ipython3",
   "version": "3.5.2"
  }
 },
 "nbformat": 4,
 "nbformat_minor": 0
}
